{
 "cells": [
  {
   "cell_type": "markdown",
   "metadata": {},
   "source": [
    "# Notebook 3: Backtesting du Modèle Morningstar\n",
    "\n",
    "## Objectif\n",
    "Charger le modèle entraîné (produit par le Notebook 02), exécuter un backtest sur un historique (dataset du Notebook 01), et analyser les performances avec des métriques claires et des graphiques d'évolution et d'évaluation."
   ]
  },
  {
   "cell_type": "markdown",
   "metadata": {},
   "source": [
    "## 1. Configuration Globale du Notebook\n",
    "\n",
    "Modifiez les variables dans la cellule suivante pour configurer le notebook."
   ]
  },
  {
   "cell_type": "code",
   "execution_count": 38,
   "metadata": {
    "tags": [
     "parameters"
    ]
   },
   "outputs": [
    {
     "name": "stderr",
     "output_type": "stream",
     "text": [
      "2025-05-12 10:39:07,174 - __main__ - INFO - ✅ run_backtest.main importé avec succès.\n",
      "2025-05-12 10:39:07,175 - __main__ - WARNING - ⚠️ plot_drawdown_periods introuvable : drawdown désactivé.\n"
     ]
    }
   ],
   "source": [
    "# --- Cellule 1 : Initialisation des modules et du projet ---\n",
    "import json, glob, sys, os, logging\n",
    "import pandas as pd\n",
    "import numpy as np\n",
    "import matplotlib.pyplot as plt\n",
    "import seaborn as sns\n",
    "\n",
    "# Booléen pour activer / désactiver l’exécution du backtest\n",
    "RUN_BACKTEST_SCRIPT = True\n",
    "\n",
    "# Configuration des logs & graphiques\n",
    "logging.basicConfig(\n",
    "    level=logging.INFO,\n",
    "    format=\"%(asctime)s - %(name)s - %(levelname)s - %(message)s\"\n",
    ")\n",
    "logger = logging.getLogger(__name__)\n",
    "\n",
    "sns.set_theme(style=\"whitegrid\")\n",
    "plt.rcParams[\"figure.figsize\"] = (18, 7)\n",
    "plt.rcParams[\"figure.dpi\"]    = 100\n",
    "\n",
    "# Ajouter le dossier 'ultimate' au PYTHONPATH pour importer run_backtest.py\n",
    "PROJECT_ROOT      = os.path.abspath(os.getcwd())\n",
    "PROJECT_CODE_ROOT = os.path.join(PROJECT_ROOT, \"ultimate\")\n",
    "if PROJECT_CODE_ROOT not in sys.path:\n",
    "    sys.path.append(PROJECT_CODE_ROOT)\n",
    "    logger.info(f\"Ajout de '{PROJECT_CODE_ROOT}' au PYTHONPATH.\")\n",
    "\n",
    "# Placeholders\n",
    "run_backtest_main    = None\n",
    "plot_drawdown_periods = None\n",
    "\n",
    "# 1) Import du runner principal\n",
    "try:\n",
    "    from run_backtest import main as run_backtest_main\n",
    "    logger.info(\"✅ run_backtest.main importé avec succès.\")\n",
    "except ImportError as e:\n",
    "    logger.error(f\"Impossible d’importer run_backtest.main : {e}\", exc_info=True)\n",
    "\n",
    "# 2) Import de la fonction de drawdown (fallback)\n",
    "try:\n",
    "    from backtesting.visualization import plot_drawdown_periods\n",
    "    logger.info(\"✅ plot_drawdown_periods importé.\")\n",
    "except ImportError:\n",
    "    try:\n",
    "        from backtesting.visualization import plot_drawdown as plot_drawdown_periods\n",
    "        logger.info(\"✅ plot_drawdown importé comme plot_drawdown_periods.\")\n",
    "    except ImportError:\n",
    "        logger.warning(\"⚠️ plot_drawdown_periods introuvable : drawdown désactivé.\")\n",
    "        plot_drawdown_periods = None\n"
   ]
  },
  {
   "cell_type": "markdown",
   "metadata": {},
   "source": [
    "## 2. Vérification des Fichiers Prérequis\n",
    "\n",
    "S'assure que le dataset enrichi (Notebook 01) et le modèle entraîné (Notebook 02) existent."
   ]
  },
  {
   "cell_type": "code",
   "execution_count": 39,
   "metadata": {},
   "outputs": [
    {
     "name": "stderr",
     "output_type": "stream",
     "text": [
      "2025-05-12 10:39:07,186 - __main__ - INFO - DATA_PATH    = /home/morningstar/Desktop/crypto_robot/Morningstar/ultimate/data/processed/enriched_dataset.parquet\n",
      "2025-05-12 10:39:07,186 - __main__ - INFO - MODEL_PATH   = /home/morningstar/Desktop/crypto_robot/Morningstar/ultimate/outputs/enhanced/best_model.keras\n",
      "2025-05-12 10:39:07,187 - __main__ - INFO - RESULTS_DIR  = /home/morningstar/Desktop/crypto_robot/Morningstar/ultimate/results/backtest_notebook_output\n",
      "2025-05-12 10:39:07,187 - __main__ - INFO - PAIR         = BTC/USDT\n"
     ]
    }
   ],
   "source": [
    "# --- Cellule 2 : Définition des chemins et vérifications ---\n",
    "DATA_PATH    = os.path.join(PROJECT_CODE_ROOT, \"data\", \"processed\", \"enriched_dataset.parquet\")\n",
    "MODEL_DIR    = os.path.join(PROJECT_CODE_ROOT, \"outputs\", \"enhanced\")\n",
    "MODEL_FILE   = \"best_model.keras\"  # Nom par défaut\n",
    "MODEL_PATH   = os.path.join(MODEL_DIR, MODEL_FILE)\n",
    "RESULTS_DIR  = os.path.join(PROJECT_CODE_ROOT, \"results\", \"backtest_notebook_output\")\n",
    "PAIR         = \"BTC/USDT\"           # Remplacez si besoin\n",
    "\n",
    "# Création du répertoire de sortie\n",
    "os.makedirs(RESULTS_DIR, exist_ok=True)\n",
    "\n",
    "logger.info(f\"DATA_PATH    = {DATA_PATH}\")\n",
    "logger.info(f\"MODEL_PATH   = {MODEL_PATH}\")\n",
    "logger.info(f\"RESULTS_DIR  = {RESULTS_DIR}\")\n",
    "logger.info(f\"PAIR         = {PAIR}\")\n",
    "\n",
    "# Vérification d’existence\n",
    "data_exists  = os.path.exists(DATA_PATH)\n",
    "model_exists = os.path.exists(MODEL_PATH)\n",
    "\n",
    "if not data_exists:\n",
    "    logger.error(f\"❌ Données manquantes : {DATA_PATH}\")\n",
    "    RUN_BACKTEST_SCRIPT = False\n",
    "\n",
    "if not model_exists:\n",
    "    logger.warning(f\"⚠️ Modèle manquant : {MODEL_PATH} (backtest peut échouer)\")\n",
    "\n",
    "if not data_exists:\n",
    "    logger.critical(\"🚨 Impossible de continuer sans données.\")\n"
   ]
  },
  {
   "cell_type": "markdown",
   "metadata": {},
   "source": [
    "## 3. Lancement du backtest\n",
    "\n",
    "Appelle la fonction `main` de `ultimate/run_backtest.py` si `RUN_BACKTEST_SCRIPT` est `True` et que les données existent."
   ]
  },
  {
   "cell_type": "code",
   "execution_count": null,
   "metadata": {},
   "outputs": [
    {
     "name": "stderr",
     "output_type": "stream",
     "text": [
      "2025-05-12 10:39:07,201 - __main__ - INFO - \n",
      "▶️ Lancement du backtest pour BTC/USDT…\n",
      "2025-05-12 10:39:07,203 - __main__ - INFO - Appel : python /home/morningstar/Desktop/crypto_robot/Morningstar/ultimate/run_backtest.py --data-path /home/morningstar/Desktop/crypto_robot/Morningstar/ultimate/data/processed/enriched_dataset.parquet --pair BTC/USDT --model /home/morningstar/Desktop/crypto_robot/Morningstar/ultimate/outputs/enhanced/best_model.keras --results-dir /home/morningstar/Desktop/crypto_robot/Morningstar/ultimate/results/backtest_notebook_output --initial-capital 20.0 --commission 0.002 --slippage 0.0005 --threshold 0.6 --plot --loglevel INFO\n",
      "usage: run_backtest.py [-h] --pair PAIR [--model MODEL] [--data-dir DATA_DIR]\n",
      "                       [--results-dir RESULTS_DIR]\n",
      "                       [--initial-capital INITIAL_CAPITAL]\n",
      "                       [--commission COMMISSION] [--slippage SLIPPAGE]\n",
      "                       [--threshold THRESHOLD]\n",
      "run_backtest.py: error: unrecognized arguments: --data-path /home/morningstar/Desktop/crypto_robot/Morningstar/ultimate/data/processed/enriched_dataset.parquet --plot --loglevel INFO\n",
      "2025-05-12 10:39:07,229 - __main__ - WARNING - ⚠️ Backtest interrompu (argparse).\n"
     ]
    }
   ],
   "source": [
    "# --- Cellule 3 : Lancement du backtest via run_backtest.py (flags ajustés) ---\n",
    "if RUN_BACKTEST_SCRIPT and data_exists:\n",
    "    logger.info(f\"\\n▶️ Lancement du backtest pour {PAIR}…\")\n",
    "    \n",
    "    backtest_args = [\n",
    "        \"--data-dir\",      os.path.join(PROJECT_CODE_ROOT, \"data\", \"processed\"),\n",
    "        \"--pair\",          PAIR,\n",
    "        \"--model\",         MODEL_PATH,\n",
    "        \"--results-dir\",   RESULTS_DIR,\n",
    "        \"--initial-capital\", str(20.0),\n",
    "        \"--commission\",      str(0.002),\n",
    "        \"--slippage\",        str(0.0005),\n",
    "        \"--threshold\",       str(0.6),\n",
    "    ]\n",
    "\n",
    "    original_argv = sys.argv.copy()\n",
    "    script_path   = os.path.join(PROJECT_CODE_ROOT, \"run_backtest.py\")\n",
    "    sys.argv      = [script_path] + backtest_args\n",
    "\n",
    "    logger.info(f\"Appel : python {script_path} {' '.join(backtest_args)}\")\n",
    "    try:\n",
    "        if run_backtest_main:\n",
    "            exit_code = run_backtest_main()\n",
    "            logger.info(f\"✅ Backtest terminé (exit code {exit_code}).\")\n",
    "        else:\n",
    "            logger.error(\"❌ run_backtest_main non importé : backtest sauté.\")\n",
    "    except SystemExit:\n",
    "        logger.warning(\"⚠️ Backtest interrompu (argparse).\")\n",
    "    except Exception as e:\n",
    "        logger.error(f\"❌ Erreur durant le backtest : {e}\", exc_info=True)\n",
    "    finally:\n",
    "        sys.argv = original_argv\n",
    "else:\n",
    "    logger.info(\"ℹ️ Backtest non lancé.\")\n"
   ]
  },
  {
   "cell_type": "markdown",
   "metadata": {},
   "source": [
    "## 4. Lecture des résultats du Backtest\n",
    "\n",
    "Charge les métriques JSON et le DataFrame de la courbe de capitaux produits par `run_backtest.py`."
   ]
  },
  {
   "cell_type": "code",
   "execution_count": 41,
   "metadata": {},
   "outputs": [
    {
     "name": "stderr",
     "output_type": "stream",
     "text": [
      "2025-05-12 10:39:07,242 - __main__ - INFO - Recherche métriques : /home/morningstar/Desktop/crypto_robot/Morningstar/ultimate/results/backtest_notebook_output/btcusdt_backtest_metrics_*.json\n",
      "2025-05-12 10:39:07,243 - __main__ - INFO - Recherche equity curve : /home/morningstar/Desktop/crypto_robot/Morningstar/ultimate/results/backtest_notebook_output/btcusdt_equity_curve_*.csv\n",
      "2025-05-12 10:39:07,245 - __main__ - WARNING - ⚠️ Aucun fichier métriques trouvé.\n",
      "2025-05-12 10:39:07,246 - __main__ - WARNING - ⚠️ Aucun fichier equity curve trouvé.\n"
     ]
    }
   ],
   "source": [
    "# --- Cellule 4 : Recherche et affichage des résultats backtest ---\n",
    "pf              = PAIR.replace(\"/\", \"\").lower()\n",
    "metrics_pattern = os.path.join(RESULTS_DIR, f\"{pf}_backtest_metrics_*.json\")\n",
    "equity_pattern  = os.path.join(RESULTS_DIR, f\"{pf}_equity_curve_*.csv\")\n",
    "\n",
    "logger.info(f\"Recherche métriques : {metrics_pattern}\")\n",
    "logger.info(f\"Recherche equity curve : {equity_pattern}\")\n",
    "\n",
    "metrics_files = sorted(glob.glob(metrics_pattern), key=os.path.getmtime, reverse=True)\n",
    "equity_files  = sorted(glob.glob(equity_pattern),  key=os.path.getmtime, reverse=True)\n",
    "\n",
    "# --- MÉTRIQUES JSON ---\n",
    "if metrics_files:\n",
    "    with open(metrics_files[0], \"r\") as f:\n",
    "        metrics = json.load(f)\n",
    "    print(\"\\n--- MÉTRIQUES DU BACKTEST ---\")\n",
    "    print(json.dumps(metrics, indent=2))\n",
    "else:\n",
    "    logger.warning(\"⚠️ Aucun fichier métriques trouvé.\")\n",
    "\n",
    "# --- Equity Curve DataFrame ---\n",
    "df_equity = None\n",
    "if equity_files:\n",
    "    df_equity = pd.read_csv(equity_files[0], index_col=0, parse_dates=True)\n",
    "    print(\"\\n--- Aperçu Equity Curve ---\")\n",
    "    display(df_equity.head())\n",
    "else:\n",
    "    logger.warning(\"⚠️ Aucun fichier equity curve trouvé.\")\n"
   ]
  },
  {
   "cell_type": "markdown",
   "metadata": {},
   "source": [
    "## 5. Visualisation des Résultats du Backtest\n",
    "\n",
    "Graphiques d'évolution de la performance (courbe de capitaux) et d'évaluation des drawdowns."
   ]
  },
  {
   "cell_type": "code",
   "execution_count": 42,
   "metadata": {},
   "outputs": [
    {
     "name": "stderr",
     "output_type": "stream",
     "text": [
      "2025-05-12 10:39:07,258 - __main__ - WARNING - ⚠️ Pas de DataFrame equity à afficher.\n"
     ]
    }
   ],
   "source": [
    "# --- Cellule 5 : Plot Equity & Drawdown ---\n",
    "if df_equity is not None and not df_equity.empty:\n",
    "    title = f\"{PAIR} — Backtest Equity\"\n",
    "\n",
    "    # 1) Courbe d’équité\n",
    "    fig, ax = plt.subplots()\n",
    "    df_equity[\"equity\"].plot(ax=ax, title=title)\n",
    "    ax.set_ylabel(\"Equity ($)\")\n",
    "    plt.show()\n",
    "\n",
    "    # 2) Périodes de drawdown\n",
    "    if plot_drawdown_periods:\n",
    "        fig, ax = plt.subplots()\n",
    "        plot_drawdown_periods(df_equity[\"equity\"], ax=ax, top_n=5, title=\"Drawdown — \" + PAIR)\n",
    "        plt.show()\n",
    "    else:\n",
    "        logger.warning(\"⚠️ plot_drawdown_periods non disponible.\")\n",
    "else:\n",
    "    logger.warning(\"⚠️ Pas de DataFrame equity à afficher.\")\n"
   ]
  },
  {
   "cell_type": "markdown",
   "metadata": {},
   "source": [
    "## 6. Analyse des Métriques Clés\n",
    "\n",
    "Affichage clair et structuré des métriques de performance du backtest."
   ]
  },
  {
   "cell_type": "code",
   "execution_count": 43,
   "metadata": {},
   "outputs": [
    {
     "name": "stderr",
     "output_type": "stream",
     "text": [
      "2025-05-12 10:39:07,280 - __main__ - WARNING - ⚠️ Aucun fichier trades trouvé (/home/morningstar/Desktop/crypto_robot/Morningstar/ultimate/results/backtest_notebook_output/btcusdt_trades_list_*.csv).\n",
      "2025-05-12 10:39:07,284 - __main__ - WARNING - ⚠️ Pas de trades à résumer.\n"
     ]
    }
   ],
   "source": [
    "# --- Cellule 6 : Chargement & stats des trades ---\n",
    "trades_pattern = os.path.join(RESULTS_DIR, f\"{pf}_trades_list_*.csv\")\n",
    "trade_files    = sorted(glob.glob(trades_pattern), key=os.path.getmtime, reverse=True)\n",
    "\n",
    "if trade_files:\n",
    "    df_trades = pd.read_csv(trade_files[0], parse_dates=[\"opendt\", \"closedt\"])\n",
    "    logger.info(f\"✅ Trades chargés ({len(df_trades)} lignes) depuis : {trade_files[0]}\")\n",
    "else:\n",
    "    logger.warning(f\"⚠️ Aucun fichier trades trouvé ({trades_pattern}).\")\n",
    "    df_trades = pd.DataFrame()\n",
    "\n",
    "# --- Période & wallet initial/final ---\n",
    "if df_equity is not None and not df_equity.empty:\n",
    "    start_date      = df_equity.index.min()\n",
    "    end_date        = df_equity.index.max()\n",
    "    initial_wallet  = df_equity[\"equity\"].iloc[0]\n",
    "    final_wallet    = df_equity[\"equity\"].iloc[-1]\n",
    "    performance_pct = (final_wallet / initial_wallet - 1) * 100\n",
    "\n",
    "    # Buy & hold (dernier prix vs premier prix)\n",
    "    df_prices = pd.read_parquet(DATA_PATH, columns=[\"timestamp\", \"close\"]) \\\n",
    "                  .set_index(\"timestamp\").sort_index()\n",
    "    bh_return = (df_prices[\"close\"].iloc[-1] / df_prices[\"close\"].iloc[0] - 1) * 100\n",
    "\n",
    "    print(f\"Period: {start_date.date()} → {end_date.date()}\")\n",
    "    print(f\"Initial wallet: {initial_wallet:.2f} $\")\n",
    "    print(f\"Final wallet:   {final_wallet:.2f} $\")\n",
    "    print(f\"Performance:    {performance_pct:.2f} %\")\n",
    "    print(f\"Buy & Hold:     {bh_return:.2f} %\")\n",
    "    print(f\"VS Buy&Hold:    {performance_pct - bh_return:.2f} %\")\n",
    "\n",
    "# --- Stats de trades détaillées ---\n",
    "if not df_trades.empty:\n",
    "    total_trades      = len(df_trades)\n",
    "    days              = max((end_date - start_date).days, 1)\n",
    "    trades_per_day    = total_trades / days\n",
    "    df_trades[\"pnl_pct\"] = (df_trades[\"closeprice\"] / df_trades[\"openprice\"] - 1) * 100\n",
    "\n",
    "    winners = df_trades[df_trades[\"pnl_pct\"] > 0]\n",
    "    losers  = df_trades[df_trades[\"pnl_pct\"] < 0]\n",
    "\n",
    "    print(\"\\n--- Trades Summary ---\")\n",
    "    print(f\"Total trades:            {total_trades}\")\n",
    "    print(f\"Trades per day (avg):     {trades_per_day:.2f}\")\n",
    "    print(f\"Win rate:                {len(winners)/total_trades*100:.2f} %\")\n",
    "    print(f\"Avg PnL (+):             {winners['pnl_pct'].mean():.2f} %\")\n",
    "    print(f\"Avg PnL (−):             {losers['pnl_pct'].mean():.2f} %\")\n",
    "else:\n",
    "    logger.warning(\"⚠️ Pas de trades à résumer.\")\n"
   ]
  },
  {
   "cell_type": "code",
   "execution_count": 44,
   "metadata": {},
   "outputs": [
    {
     "name": "stderr",
     "output_type": "stream",
     "text": [
      "2025-05-12 10:39:07,299 - __main__ - WARNING - ⚠️ Pas de trades pour afficher le top symbols.\n"
     ]
    }
   ],
   "source": [
    "# --- Cellule 7 : Top 5 symbols par gain cumulé ---\n",
    "if not df_trades.empty:\n",
    "    agg = (\n",
    "        df_trades\n",
    "        .groupby(\"symbol\")[\"pnl_pct\"]\n",
    "        .agg(Total=\"% sum\", Avg=\"mean\", Min=\"min\", Max=\"max\", Count=\"count\")\n",
    "        .rename(columns={\"Total\":\"Total %\", \"Avg\":\"Avg %\", \"Min\":\"Min %\", \"Max\":\"Max %\", \"Count\":\"N trades\"})\n",
    "        .sort_values(\"Total %\", ascending=False)\n",
    "    )\n",
    "    display(agg.head(5))\n",
    "else:\n",
    "    logger.warning(\"⚠️ Pas de trades pour afficher le top symbols.\")\n"
   ]
  },
  {
   "cell_type": "markdown",
   "metadata": {},
   "source": [
    "Cellule 7 – Rapport détaillé"
   ]
  },
  {
   "cell_type": "code",
   "execution_count": 45,
   "metadata": {},
   "outputs": [
    {
     "name": "stderr",
     "output_type": "stream",
     "text": [
      "2025-05-12 10:39:07,310 - __main__ - WARNING - Pas de trades pour afficher le top symbols.\n"
     ]
    }
   ],
   "source": [
    "# --- Cellule 8 : Top 5 symbols par gain cumulatif ---\n",
    "if df_trades is not None and not df_trades.empty:\n",
    "    agg = (\n",
    "        df_trades\n",
    "        .groupby('symbol')['pnl_pct']\n",
    "        .agg(Total='% sum', Avg='% mean', Min='% min', Max='% max', N='count')\n",
    "        .rename(columns={'Total':'Total %','Avg':'Avg %','Min':'Min %','Max':'Max %','N':'N trades'})\n",
    "        .sort_values('Total %', ascending=False)\n",
    "    )\n",
    "    display(agg.head(5))\n",
    "else:\n",
    "    logger.warning(\"Pas de trades pour afficher le top symbols.\")\n"
   ]
  }
 ],
 "metadata": {
  "kernelspec": {
   "display_name": "trading_env",
   "language": "python",
   "name": "python3"
  },
  "language_info": {
   "codemirror_mode": {
    "name": "ipython",
    "version": 3
   },
   "file_extension": ".py",
   "mimetype": "text/x-python",
   "name": "python",
   "nbconvert_exporter": "python",
   "pygments_lexer": "ipython3",
   "version": "3.11.11"
  }
 },
 "nbformat": 4,
 "nbformat_minor": 2
}
